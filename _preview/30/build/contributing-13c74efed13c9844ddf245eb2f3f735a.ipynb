{
 "cells": [
  {
   "cell_type": "markdown",
   "id": "18fc5764-ee29-4e4b-bfef-682468155196",
   "metadata": {},
   "source": [
    "---\n",
    "title: ICESat-2 Cookbook Contribution Guidelines\n",
    "authors:\n",
    "    - name: Tyler Sutterley\n",
    "      affiliation: University of Washington\n",
    "    - name: Tasha Snow\n",
    "      affiliation: University of Maryland, NASA GSFC\n",
    "---"
   ]
  },
  {
   "cell_type": "markdown",
   "id": "d83f9720-5cf0-485e-882f-7295095a7f2f",
   "metadata": {},
   "source": [
    "```{admonition} Purpose\n",
    "This cookbook provides guidelines for contributing to the ICESat-2 Cookbook. It is intended to promote openness, reproducibility, and accessibility.\n",
    "```\n",
    "\n",
    "```{tip} Disclaimer\n",
    "This cookbook is an open source project.\n",
    "We welcome any help in maintaining and developing the tutorials and documentation from users at any career stage and with any level of coding experience.\n",
    "Please read our code of conduct before contributing towards this project.\n",
    "```\n",
    "\n",
    "## Ways to Contribute 🪄\n",
    "\n",
    "1. Fixing typographical or coding errors\n",
    "2. Submitting bug reports or feature requests through the use of [GitHub issues](https://github.com/ICESAT-2HackWeek/icesat2-cookbook/issues)\n",
    "3. Improving documentation and testing\n",
    "4. Sharing tutorials or workflows\n",
    "\n",
    "## Requesting a Feature 🚀\n",
    "\n",
    "Check the [project issues tab](https://github.com/ICESAT-2HackWeek/icesat2-cookbook/issues) to see if the feature has already been suggested.\n",
    "If not, please submit a new issue describing your requested feature or enhancement using the New Tutorial Request template.\n",
    "Please give your feature request both a clear title and description.\n",
    "Let us know if this is something you would like to contribute to the `icesat2-cookbook`.\n",
    "\n",
    "## Reporting a Bug 🐛\n",
    "\n",
    "Check the [project issues tab](https://github.com/ICESAT-2HackWeek/icesat2-cookbook/issues) to see if the problem has already been reported.\n",
    "If not, *please* submit a new issue so that we are made aware of the problem.\n",
    "Please provide as much detail as possible when writing the description of your bug report.\n",
    "Providing information and examples will help us resolve issues faster."
   ]
  },
  {
   "cell_type": "markdown",
   "id": "8645b2bd-3fad-46ba-9080-80a5bdb8a6ae",
   "metadata": {},
   "source": [
    "## General Guidelines\n",
    "\n",
    "- Make each pull request as small and simple as possible\n",
    "- Commit messages should be clear and describe the changes\n",
    "- Larger changes should be broken down into their basic components and integrated separately\n",
    "- Bug fixes should be their own pull requests with an associated [GitHub issue](https://github.com/ICESAT-2HackWeek/icesat2-cookbook/issues) using the Bug Report template.\n",
    "- Write a descriptive pull request message with a clear title\n",
    "- Please be patient as reviews of pull requests take time\n",
    "\n",
    "### Steps to Contribute\n",
    "\n",
    "1. Fork the repository to your personal GitHub account by clicking the \"Fork\" button on the project [main page](https://github.com/ICESAT-2HackWeek/icesat2-cookbook/issues). This creates your own server-side copy of the repository.\n",
    "2. Either by cloning to your local system or working on a hosted JupyterHub (such as [CryoCloud](https://hub.cryointhecloud.com/)), create a work environment to make your changes using either `conda` or `pixi`.\n",
    "3. Add your fork as the `origin` remote and the original project repository as the `upstream` remote. While this step isn't a necessary, it allows you to keep your fork up to date in the future.\n",
    "4. Create a new branch to do your work.\n",
    "5. Make your changes on the new branch.\n",
    "6. Push your work to GitHub under your fork of the project.\n",
    "7. Submit a [Pull Request](https://github.com/ICESAT-2HackWeek/icesat2-cookbook/pulls) from your forked branch to the project repository."
   ]
  },
  {
   "cell_type": "markdown",
   "id": "368e337b-21f7-418a-9233-4149691b22b1",
   "metadata": {},
   "source": [
    "## Continuous Integration\n",
    "\n",
    "We use [GitHub Actions](https://github.com/ICESAT-2HackWeek/icesat2-cookbook/actions) continuous integration (CI) services to build the Jupyterbook.\n",
    "The configuration files for this service are in the [GitHub workflows](https://github.com/ICESAT-2HackWeek/icesat2-cookbook/tree/main/.github/workflows) directory.\n",
    "The workflows use the [`cookbook-actions`](https://github.com/ProjectPythia/cookbook-actions) provided by Project Pythia."
   ]
  },
  {
   "cell_type": "markdown",
   "id": "1aee8fdc-0836-457e-87f4-d3e679f9156c",
   "metadata": {},
   "source": [
    "## Semantic Commit Messages\n",
    "\n",
    "Please follow the [Conventional Commits](https://www.conventionalcommits.org/) specification for your commit messages to help organize the pull requests:\n",
    "\n",
    "```bash\n",
    "<type>: <subject>\n",
    "\n",
    "[optional message body]\n",
    "```\n",
    "\n",
    "where `<type>` is one of the following:\n",
    "\n",
    "- `feat`: adding new features or programs\n",
    "- `fix`: fixing bugs or problems\n",
    "- `docs`: changing the documentation\n",
    "- `style`: changing the line order or adding comments\n",
    "- `refactor`: changing the names of variables or programs\n",
    "- `ci`: changing the continuous integration configuration files or scripts"
   ]
  },
  {
   "cell_type": "code",
   "execution_count": null,
   "id": "b0a7931b-ce76-44a7-b64b-1f8d6e1ea271",
   "metadata": {},
   "outputs": [],
   "source": []
  }
 ],
 "metadata": {
  "kernelspec": {
   "display_name": "Python 3 (ipykernel)",
   "language": "python",
   "name": "python3"
  },
  "language_info": {
   "codemirror_mode": {
    "name": "ipython",
    "version": 3
   },
   "file_extension": ".py",
   "mimetype": "text/x-python",
   "name": "python",
   "nbconvert_exporter": "python",
   "pygments_lexer": "ipython3",
   "version": "3.11.11"
  }
 },
 "nbformat": 4,
 "nbformat_minor": 5
}
