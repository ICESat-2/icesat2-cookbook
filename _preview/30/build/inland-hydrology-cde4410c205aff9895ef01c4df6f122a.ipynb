{
 "cells": [
  {
   "cell_type": "markdown",
   "id": "c5185c84",
   "metadata": {},
   "source": [
    "# DRAFT: Inland Hydrology \n",
    "\n",
    "## Author(s)\n",
    "\n",
    "Shamsudeen Temitope Yekeen\n",
    "\n",
    "## Existing Notebooks\n",
    "\n",
    "[Inland Hydrology Applications](https://icesat-2-2023.hackweek.io/tutorials/Hydrology/Hackweek.html)\n",
    "\n",
    "## Learning Outcomes\n",
    "\n",
    "* Understanding the ICESat-2 ATL13 product and its usage in inland hydrology\n",
    "* Ability to access and extract required subset variables ATL13 data product\n",
    "* Participants would be able to create a water surface elevation dynamics\n",
    "\n",
    "### Notes\n",
    "\n",
    "\n"
   ]
  },
  {
   "cell_type": "markdown",
   "id": "af4cf5af",
   "metadata": {},
   "source": []
  }
 ],
 "metadata": {
  "language_info": {
   "name": "python"
  }
 },
 "nbformat": 4,
 "nbformat_minor": 5
}
