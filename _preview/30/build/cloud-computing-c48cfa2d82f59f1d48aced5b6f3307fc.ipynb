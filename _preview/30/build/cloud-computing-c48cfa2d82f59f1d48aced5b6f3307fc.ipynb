{
 "cells": [
  {
   "cell_type": "markdown",
   "id": "78cee78b",
   "metadata": {},
   "source": [
    "# DRAFT: Cloud Computing \n",
    "\n",
    "## Author(s)\n",
    "\n",
    "Aimee Barciauskas, Tasha Snow\n",
    "\n",
    "## Existing Notebooks\n",
    "\n",
    "[Cloud Computing](https://icesat-2-2024.hackweek.io/tutorials/cloud-computing/00-goals-and-outline.html)\n",
    "\n",
    "## Learning Outcomes\n",
    "\n",
    "* What is cloud computing?\n",
    "\n",
    "* What is cloud object storage and the difference between data stored in the \n",
    "cloud, data on a local file system and data stored in on-premise data centers.\n",
    "\n",
    "* How to optimize data for reading from cloud object storage.\n",
    "\n",
    "### Notes\n",
    "\n",
    "Unsure whether to point parts of this to an existing CryoCloud tutorial. \n",
    "The content specific to ICESat-2 definitely belongs here.  "
   ]
  },
  {
   "cell_type": "markdown",
   "id": "ebfbe474",
   "metadata": {},
   "source": []
  }
 ],
 "metadata": {
  "language_info": {
   "name": "python"
  }
 },
 "nbformat": 4,
 "nbformat_minor": 5
}
