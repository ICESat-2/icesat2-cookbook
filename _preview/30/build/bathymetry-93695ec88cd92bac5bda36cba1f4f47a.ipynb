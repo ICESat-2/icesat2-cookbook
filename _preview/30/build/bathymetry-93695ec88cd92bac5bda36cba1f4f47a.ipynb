{
 "cells": [
  {
   "cell_type": "markdown",
   "id": "c5185c84",
   "metadata": {},
   "source": [
    "# DRAFT: Bathymetry Applications\n",
    "\n",
    "## Author(s)\n",
    "\n",
    "Jonathan Markel \n",
    "\n",
    "## Existing Notebooks\n",
    "\n",
    "[Bathymetry Applications](https://icesat-2-2023.hackweek.io/tutorials/bathymetry/bathymetry_tutorial.html)\n",
    "\n",
    "## Learning Outcomes\n",
    "\n",
    "* Learn what ICESat-2 bathymetry looks like, where to find it, and how to \n",
    "visualize it\n",
    "* Understand pros / cons of different signal finding approaches for bathymetry\n",
    "* Extract water surface and seafloor returns from the photon data\n",
    "* Apply refraction correction to subsurface photon heights\n",
    "\n",
    "### Notes\n",
    "\n",
    "\n"
   ]
  },
  {
   "cell_type": "markdown",
   "id": "af4cf5af",
   "metadata": {},
   "source": []
  }
 ],
 "metadata": {
  "language_info": {
   "name": "python"
  }
 },
 "nbformat": 4,
 "nbformat_minor": 5
}
