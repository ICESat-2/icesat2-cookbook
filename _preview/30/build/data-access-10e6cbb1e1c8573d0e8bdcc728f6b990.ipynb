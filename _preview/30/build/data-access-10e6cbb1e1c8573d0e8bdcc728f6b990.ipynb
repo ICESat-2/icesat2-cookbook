{
 "cells": [
  {
   "cell_type": "markdown",
   "id": "78cee78b",
   "metadata": {},
   "source": [
    "# DRAFT: Data Access \n",
    "\n",
    "## Author(s)\n",
    "\n",
    "Rachel Wegener, Amy Steiker, Jessica Scheick, JP Swinski, many others\n",
    "\n",
    "## Existing Notebooks\n",
    "\n",
    "[Accessing ICESat-2 Data](https://icesat-2-2024.hackweek.io/tutorials/data_access/ICESat2_Data_Access_Tutorial.html)\n",
    "\n",
    "(assuming that the 2024 notebook is most updated for now)\n",
    "\n",
    "## Learning Outcomes\n",
    "\n",
    "* learn about all the tools currently available for accessing ICESat-2 data,\n",
    "and the decisions that influence which one to choose\n",
    "\n",
    "* learn recommended best practices for data access depending on your application\n",
    "\n",
    "### Notes\n",
    "\n",
    "\n",
    "Suggest we wait to work on these tutorials until after the 2025 Developers' \n",
    "Hackweek in Seattle. \n"
   ]
  },
  {
   "cell_type": "markdown",
   "id": "ebfbe474",
   "metadata": {},
   "source": []
  }
 ],
 "metadata": {
  "language_info": {
   "name": "python"
  }
 },
 "nbformat": 4,
 "nbformat_minor": 5
}
