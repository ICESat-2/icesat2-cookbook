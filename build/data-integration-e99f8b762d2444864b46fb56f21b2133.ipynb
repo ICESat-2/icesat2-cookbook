{
 "cells": [
  {
   "cell_type": "markdown",
   "id": "78cee78b",
   "metadata": {},
   "source": [
    "# DRAFT: Data Integration\n",
    "\n",
    "## Author(s)\n",
    "\n",
    "Michalea King, Tyler Sutterley, Ian Joughin, Zach Fair, Tasha Snow\n",
    "\n",
    "## Existing Notebooks\n",
    "\n",
    "-[Data Integration Part 1](https://icesat-2-2022.hackweek.io/tutorials/DataIntegration/data-applications.html)\n",
    "\n",
    "-[Data Integration Part 2](https://icesat-2-2022.hackweek.io/tutorials/DataIntegration/dataintegration-2.html)\n",
    "\n",
    "## Learning Outcomes\n",
    "\n",
    "* Retrieve image mosaics from NSIDC\n",
    "\n",
    "* Subset and view imagery with GrIMP and NISAR tools\n",
    "\n",
    "* Retrieve customized ICESat-2 data with SlideRule\n",
    "\n",
    "* Sample imagery at ICESat-2 photon locations\n",
    "\n",
    "* Access NSIDC data sets and acquire IS-2 using icepyx\n",
    "\n",
    "* Analyze point and raster data together with IS-2\n",
    "\n",
    "* Advanced visualizations of multiple datasets\n",
    "\n",
    "### Notes\n"
   ]
  },
  {
   "cell_type": "markdown",
   "id": "ebfbe474",
   "metadata": {},
   "source": []
  }
 ],
 "metadata": {
  "language_info": {
   "name": "python"
  }
 },
 "nbformat": 4,
 "nbformat_minor": 5
}
