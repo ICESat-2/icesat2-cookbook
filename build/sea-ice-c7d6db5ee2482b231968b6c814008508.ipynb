{
 "cells": [
  {
   "cell_type": "markdown",
   "id": "c5185c84",
   "metadata": {},
   "source": [
    "# DRAFT: Sea Ice \n",
    "\n",
    "## Author(s)\n",
    "\n",
    "Younghyun Koo, Alek Petty, Ellen Buckley\n",
    "\n",
    "## Existing Notebooks\n",
    "\n",
    "[Sea Ice Applications (2023)](https://icesat-2-2023.hackweek.io/tutorials/sea_ice/1_sea_ice_tutorial.html)\n",
    "\n",
    "[Sea Ice Applications (2020)](https://github.com/ICESAT-2HackWeek/sea-ice-tutorials/tree/master/Notebooks)\n",
    "\n",
    "## Learning Outcomes\n",
    "\n",
    "* Learn how to access/download ICESat-2 sea ice products (ATL07/ATL10/ATL20) \n",
    "via icepyx or earthaccess libraries.\n",
    "\n",
    "* Examine what the ICESat-2 sea ice freeboard products (ATL10/ATL20) look like.\n",
    "\n",
    "* Derive sea ice properties (sea ice thickness, floe size distribution, lead \n",
    "fraction) using ATL10 product.\n",
    "\n",
    "* Map monthly sea ice freeboard using ATL20 product.\n",
    "\n",
    "### Notes\n",
    "\n",
    "The 2020 tutorials have an assembly of notebooks for the different ATL products.\n",
    "The 2023 tutorial is a single notebook. \n",
    "\n"
   ]
  },
  {
   "cell_type": "markdown",
   "id": "af4cf5af",
   "metadata": {},
   "source": []
  }
 ],
 "metadata": {
  "language_info": {
   "name": "python"
  }
 },
 "nbformat": 4,
 "nbformat_minor": 5
}
