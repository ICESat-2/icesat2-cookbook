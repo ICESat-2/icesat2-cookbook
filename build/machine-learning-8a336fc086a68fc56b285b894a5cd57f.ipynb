{
 "cells": [
  {
   "cell_type": "markdown",
   "id": "c5185c84",
   "metadata": {},
   "source": [
    "# DRAFT: Machine Learning\n",
    "\n",
    "## Author(s)\n",
    "\n",
    "Yara Mohajerani, Shane Grigsby, Wei Ji Leong\n",
    "\n",
    "## Existing Notebooks\n",
    "\n",
    "[ML with ICESat-2 Data](https://icesat-2-2024.hackweek.io/tutorials/machine-learning/point_cloud_classifier.html)\n",
    "\n",
    "[ML Neural Networks, Bayesian](https://github.com/ICESAT-2HackWeek/Machine-Learning)\n",
    "\n",
    "## Learning Outcomes\n",
    "\n",
    "* Convert ICESat-2 point cloud data into an analysis/ML-ready format\n",
    "* Recognize the different levels of complexity of ML approaches and \n",
    "the benefits/challenges of each\n",
    "* Learn the potential of using ML for ICESat-2 point cloud classification\n",
    "\n",
    "### Notes\n",
    "\n",
    "Probably focus on Wei Ji's tutorial, but could point to the earlier work\n",
    "of Yara and Shane for more advanced/theoretical concepts?\n",
    "\n"
   ]
  },
  {
   "cell_type": "markdown",
   "id": "af4cf5af",
   "metadata": {},
   "source": []
  }
 ],
 "metadata": {
  "language_info": {
   "name": "python"
  }
 },
 "nbformat": 4,
 "nbformat_minor": 5
}
